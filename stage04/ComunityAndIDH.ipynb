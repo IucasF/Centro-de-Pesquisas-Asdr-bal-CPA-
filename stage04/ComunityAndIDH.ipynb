{
 "cells": [
  {
   "cell_type": "code",
   "execution_count": 1,
   "metadata": {},
   "outputs": [],
   "source": [
    "%defaultDatasource jdbc:h2:mem:db"
   ]
  },
  {
   "cell_type": "code",
   "execution_count": 6,
   "metadata": {},
   "outputs": [
    {
     "ename": "org.h2.jdbc.JdbcSQLException",
     "evalue": " Syntax error in SQL statement \"CREATE TABLE IDH(",
     "output_type": "error",
     "text": "org.h2.jdbc.JdbcSQLException: Syntax error in SQL statement \"CREATE TABLE IDH(\nNOMEPAIS VARCHAR(52),\nIDH FLOAT\n) AS SELECT\nPAIS,\n[[*]3]\nFROM CSVREAD('../data/paises_idh.csv') \"; expected \"*, NOT, EXISTS, INTERSECTS, SELECT, FROM, WITH\"; SQL statement:\nCREATE TABLE IDH(\nnomePais VARCHAR(52),\nIDH FLOAT\n) AS SELECT\npais,\n[3]\nFROM CSVREAD('../data/paises_idh.csv') [42001-197]",
     "traceback": [
      "\u001b[1;31morg.h2.jdbc.JdbcSQLException: Syntax error in SQL statement \"CREATE TABLE IDH(\u001b[0;0m",
      "\u001b[1;31mNOMEPAIS VARCHAR(52),\u001b[0;0m",
      "\u001b[1;31mIDH FLOAT\u001b[0;0m",
      "\u001b[1;31m) AS SELECT\u001b[0;0m",
      "\u001b[1;31mPAIS,\u001b[0;0m",
      "\u001b[1;31m[[*]3]\u001b[0;0m",
      "\u001b[1;31mFROM CSVREAD('../data/paises_idh.csv') \"; expected \"*, NOT, EXISTS, INTERSECTS, SELECT, FROM, WITH\"; SQL statement:\u001b[0;0m",
      "\u001b[1;31mCREATE TABLE IDH(\u001b[0;0m",
      "\u001b[1;31mnomePais VARCHAR(52),\u001b[0;0m",
      "\u001b[1;31mIDH FLOAT\u001b[0;0m",
      "\u001b[1;31m) AS SELECT\u001b[0;0m",
      "\u001b[1;31mpais,\u001b[0;0m",
      "\u001b[1;31m[3]\u001b[0;0m",
      "\u001b[1;31mFROM CSVREAD('../data/paises_idh.csv') [42001-197]\u001b[0;0m"
     ]
    }
   ],
   "source": [
    "DROP TABLE IF EXISTS IDH;\n",
    "DROP TABLE IF EXISTS Dietas;\n",
    "\n",
    "CREATE TABLE IDH(\n",
    "    nomePais VARCHAR(52),\n",
    "    IDH FLOAT\n",
    ") AS SELECT\n",
    "    pais, \n",
    "    HDI\n",
    "FROM CSVREAD('../data/paises_idh.csv');\n",
    "\n",
    "CREATE TABLE Dietas(\n",
    "    nomePais VARCHAR(52) NOT NULL,\n",
    "    nomeGrupo VARCHAR(50) NOT NULL,\n",
    ") AS SELECT\n",
    "    Country,\n",
    "    Category\n",
    "FROM CSVREAD('../data/comunidade_dietas.csv');"
   ]
  },
  {
   "cell_type": "code",
   "execution_count": null,
   "metadata": {},
   "outputs": [],
   "source": [
    "SELECT * FROM Dietas;"
   ]
  },
  {
   "cell_type": "code",
   "execution_count": null,
   "metadata": {},
   "outputs": [],
   "source": [
    "DROP TABLE IF EXISTS Juncao; \n",
    "CREATE TABLE Juncao(\n",
    "    nomePais VARCHAR(52) NOT NULL,\n",
    "    IDH FLOAT NOT NULL,\n",
    "    nomeGrupo VARCHAR(50) NOT NULL,\n",
    ");\n",
    "\n",
    "INSERT INTO Juncao (nomePais, IDH, nomeGrupo)\n",
    "SELECT D.nomePais, I.idh, D.nomeGrupo\n",
    "FROM Dietas D, IDH I WHERE D.nomePais = I.nomePais;"
   ]
  },
  {
   "cell_type": "code",
   "execution_count": null,
   "metadata": {},
   "outputs": [],
   "source": [
    "DROP TABLE IF EXISTS Caso01;\n",
    "CREATE TABLE Caso01(\n",
    "    nomeRange VARCHAR(25),\n",
    "    IDH_Medio FLOAT\n",
    ");\n",
    "\n",
    "INSERT INTO Caso01 (IDH_Medio)\n",
    "SELECT ROUND(AVG(I.IDH), 4) FROM Dietas D, IDH I WHERE D.nomeGrupo = \"nomeDoGrupo1\";\n",
    "UPDATE Caso01 SET nomeRange = \"nomeDoGrupo1\" WHERE porcentagemOWMedia > 10;\n",
    "\n",
    "INSERT INTO Caso01 (IDH_Medio)\n",
    "SELECT ROUND(AVG(I.IDH), 4) FROM Dietas D, IDH I WHERE D.nomeGrupo = \"nomeDoGrupo2\";\n",
    "UPDATE Caso01 SET nomeRange = \"nomeDoGrupo2\" WHERE porcentagemOWMedia > 10;\n",
    "\n",
    "INSERT INTO Caso01 (IDH_Medio)\n",
    "SELECT ROUND(AVG(I.IDH), 4) FROM Dietas D, IDH I WHERE D.nomeGrupo = \"nomeDoGrupo3\";\n",
    "UPDATE Caso01 SET nomeRange = \"nomeDoGrupo3\" WHERE porcentagemOWMedia > 10;"
   ]
  }
 ],
 "metadata": {
  "kernelspec": {
   "display_name": "SQL",
   "language": "SQL",
   "name": "sql"
  },
  "language_info": {
   "codemirror_mode": "sql",
   "file_extension": ".sql",
   "mimetype": "",
   "name": "SQL",
   "nbconverter_exporter": "",
   "version": ""
  }
 },
 "nbformat": 4,
 "nbformat_minor": 4
}
