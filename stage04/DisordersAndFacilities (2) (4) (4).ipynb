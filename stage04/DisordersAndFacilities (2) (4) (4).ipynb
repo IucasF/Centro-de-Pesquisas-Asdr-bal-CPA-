{
 "cells": [
  {
   "cell_type": "code",
   "execution_count": 3,
   "metadata": {},
   "outputs": [],
   "source": [
    "%defaultDatasource jdbc:h2:mem:db"
   ]
  },
  {
   "cell_type": "code",
   "execution_count": 4,
   "metadata": {},
   "outputs": [],
   "source": [
    "DROP TABLE IF EXISTS Ansiedade;\n",
    "DROP TABLE IF EXISTS Depressao;\n",
    "DROP TABLE IF EXISTS MentalFacilities;\n",
    "\n",
    "CREATE TABLE Depressao(\n",
    "    nomePais VARCHAR(52),\n",
    "    anoPesquisa varchar(16),\n",
    "    populacao bigint,\n",
    "    porcentagemHomens FLOAT,\n",
    "    porcentagemMulheres FLOAT,\n",
    ") AS SELECT\n",
    "    Entity,\n",
    "    Year, \n",
    "    Population,\n",
    "    Prevalence_Depressive_Disorders_Male,\n",
    "    Prevalence_Depressive_Disorders_Female\n",
    "FROM CSVREAD('../data/depression_mh.csv');\n",
    "\n",
    "CREATE TABLE MentalFacilities(\n",
    "    nomePais VARCHAR(52),\n",
    "    anoPesquisa VARCHAR(16),\n",
    "    hospitais FLOAT,\n",
    "    servicos_de_saude FLOAT,\n",
    "    servicos_de_saude_nao_gov FLOAT,\n",
    "    servicos_de_saude_day_threat FLOAT,\n",
    "    comunidade_residencial FLOAT\n",
    ") AS SELECT\n",
    "    Country,\n",
    "    Year, \n",
    "    Mental_hospitals,\n",
    "    Mental_health_units,\n",
    "    Mental_health_outpatient,\n",
    "    Mental_health_day_treatment,\n",
    "    Community_residential_facilities\n",
    "FROM CSVREAD('../data/mental_health_facilities_gho.csv');"
   ]
  },
  {
   "cell_type": "code",
   "execution_count": 5,
   "metadata": {},
   "outputs": [
    {
     "data": {
      "application/vnd.jupyter.widget-view+json": {
       "model_id": "d236f7b8-44e3-40b1-885e-3d0a82c790ba",
       "version_major": 2,
       "version_minor": 0
      },
      "method": "display_data"
     },
     "metadata": {},
     "output_type": "display_data"
    }
   ],
   "source": [
    "DELETE FROM Depressao D WHERE D.porcentagemHomens IS NULL;\n",
    "--SELECT * FROM Depressao;"
   ]
  },
  {
   "cell_type": "code",
   "execution_count": 6,
   "metadata": {},
   "outputs": [
    {
     "data": {
      "application/vnd.jupyter.widget-view+json": {
       "model_id": "8ac413f0-fda7-4793-ab1d-12dd202ac963",
       "version_major": 2,
       "version_minor": 0
      },
      "method": "display_data"
     },
     "metadata": {},
     "output_type": "display_data"
    }
   ],
   "source": [
    "UPDATE MentalFacilities SET hospitais = 0 WHERE hospitais IS NULL;\n",
    "UPDATE MentalFacilities SET servicos_de_saude = 0 WHERE servicos_de_saude IS NULL;\n",
    "UPDATE MentalFacilities SET servicos_de_saude_nao_gov = 0 WHERE servicos_de_saude_nao_gov IS NULL;\n",
    "UPDATE MentalFacilities SET servicos_de_saude_day_threat = 0 WHERE servicos_de_saude_day_threat IS NULL;\n",
    "UPDATE MentalFacilities SET comunidade_residencial = 0 WHERE comunidade_residencial IS NULL;\n",
    "\n",
    "SELECT * FROM MentalFacilities;\n",
    "\n",
    "DROP TABLE IF EXISTS MentalFacilities_v2;\n",
    "CREATE TABLE MentalFacilities_v2 (\n",
    "    nomePais VARCHAR(52),\n",
    "    anoPesquisa INT,\n",
    "    porcentagem FLOAT\n",
    ")"
   ]
  },
  {
   "cell_type": "code",
   "execution_count": 7,
   "metadata": {},
   "outputs": [],
   "source": [
    "INSERT INTO MentalFacilities_v2 (nomePais, anoPesquisa, porcentagem)\n",
    "SELECT MF.nomePais, MF.anoPesquisa, (MF.hospitais + MF.servicos_de_saude + MF.servicos_de_saude_nao_gov + MF.servicos_de_saude_day_threat + MF.comunidade_residencial)\n",
    "FROM MentalFacilities MF WHERE CAST(SUBSTRING(MF.anoPesquisa, 1, 4) AS INT) = MF.anoPesquisa;"
   ]
  },
  {
   "cell_type": "code",
   "execution_count": 11,
   "metadata": {},
   "outputs": [
    {
     "data": {
      "application/vnd.jupyter.widget-view+json": {
       "model_id": "8d648211-c07e-4dba-9e2d-2d3d018863d7",
       "version_major": 2,
       "version_minor": 0
      },
      "method": "display_data"
     },
     "metadata": {},
     "output_type": "display_data"
    }
   ],
   "source": [
    "SELECT * FROM MentalFacilities_v2;"
   ]
  },
  {
   "cell_type": "code",
   "execution_count": 46,
   "metadata": {},
   "outputs": [],
   "source": [
    "DROP TABLE IF EXISTS Juncao; \n",
    "CREATE TABLE Juncao (\n",
    "    nomePais VARCHAR(53),\n",
    "    anoPesquisa int,\n",
    "    porcentagemHomens FLOAT,\n",
    "    porcentagemMulheres FLOAT,\n",
    "    porcentagemInstalacoes FLOAT\n",
    ");"
   ]
  },
  {
   "cell_type": "code",
   "execution_count": 47,
   "metadata": {},
   "outputs": [],
   "source": [
    "DROP VIEW IF EXISTS MAX_ANO;\n",
    "CREATE VIEW MAX_ANO AS\n",
    "SELECT nomePais, MAX(anoPesquisa) as ano_max FROM MentalFacilities_v2\n",
    "GROUP BY nomePais, anoPesquisa;\n",
    "\n",
    "--SELECT * FROM MAX_ANO;"
   ]
  },
  {
   "cell_type": "code",
   "execution_count": 48,
   "metadata": {},
   "outputs": [
    {
     "data": {
      "application/vnd.jupyter.widget-view+json": {
       "model_id": "be7cbffc-6fea-4654-9453-d3c93cd800d0",
       "version_major": 2,
       "version_minor": 0
      },
      "method": "display_data"
     },
     "metadata": {},
     "output_type": "display_data"
    }
   ],
   "source": [
    "INSERT INTO Juncao (nomePais, anoPesquisa, porcentagemHomens, porcentagemMulheres, porcentagemInstalacoes)\n",
    "SELECT MF.nomePais, D.anoPesquisa, ROUND(D.porcentagemHomens , 4), ROUND(D.porcentagemMulheres, 4), ROUND(MF.porcentagem, 3)\n",
    "FROM MentalFacilities_v2 MF, Depressao D, MAX_ANO MA\n",
    "WHERE MF.nomePais = D.nomePais AND MF.nomePais = MA.nomePais AND MF.anoPesquisa = MA.ano_max AND D.anoPesquisa = MA.ano_max;\n",
    "SELECT * FROM Juncao;"
   ]
  },
  {
   "cell_type": "code",
   "execution_count": 65,
   "metadata": {},
   "outputs": [
    {
     "data": {
      "application/vnd.jupyter.widget-view+json": {
       "model_id": "4fd0e156-b8af-4d86-a194-d8b55a0b1eef",
       "version_major": 2,
       "version_minor": 0
      },
      "method": "display_data"
     },
     "metadata": {},
     "output_type": "display_data"
    }
   ],
   "source": [
    "SELECT ROUND(SUM(porcentagemHomens)/124 , 4) as homens, ROUND(SUM(porcentagemMulheres)/124 ,4) as mulheres FROM Juncao;"
   ]
  },
  {
   "cell_type": "code",
   "execution_count": 56,
   "metadata": {},
   "outputs": [
    {
     "data": {
      "application/vnd.jupyter.widget-view+json": {
       "model_id": "aab7522a-b398-4dfc-bf48-6bb39f8970b9",
       "version_major": 2,
       "version_minor": 0
      },
      "method": "display_data"
     },
     "metadata": {},
     "output_type": "display_data"
    }
   ],
   "source": [
    "SELECT * FROM Juncao ORDER BY porcentagemInstalacoes DESC;"
   ]
  },
  {
   "cell_type": "code",
   "execution_count": 63,
   "metadata": {},
   "outputs": [],
   "source": [
    "DROP TABLE IF EXISTS Caso01;\n",
    "CREATE TABLE Caso01(\n",
    "    nomeRange VARCHAR(52),\n",
    "    porcentagemDMedia DOUBLE,\n",
    "    porcentagemIMedia DOUBLE\n",
    ");\n",
    "\n",
    "INSERT INTO Caso01 (porcentagemDMedia, porcentagemIMedia)\n",
    "SELECT ROUND(AVG(J.porcentagemHomens + J.porcentagemMulheres), 4), ROUND(AVG(J.porcentagemInstalacoes), 4)\n",
    "FROM Juncao J WHERE J.porcentagemInstalacoes > 8;\n",
    "UPDATE Caso01 SET nomeRange = 'High Facilities Percentage' WHERE porcentagemIMedia > 8;\n",
    "\n",
    "INSERT INTO Caso01 (porcentagemDMedia, porcentagemIMedia)\n",
    "SELECT ROUND(AVG(J.porcentagemHomens + J.porcentagemMulheres), 4), ROUND(AVG(J.porcentagemInstalacoes), 4)\n",
    "FROM Juncao J WHERE J.porcentagemInstalacoes < 8 AND J.porcentagemInstalacoes > 1.9;\n",
    "UPDATE Caso01 SET nomeRange = 'Medium Facilities Percentage' WHERE porcentagemIMedia < 8 AND porcentagemIMedia > 1.9;\n",
    "\n",
    "INSERT INTO Caso01 (porcentagemDMedia, porcentagemIMedia)\n",
    "SELECT ROUND(AVG(J.porcentagemHomens + J.porcentagemMulheres), 4), ROUND(AVG(J.porcentagemInstalacoes), 4)\n",
    "FROM Juncao J WHERE J.porcentagemInstalacoes < 1.9;\n",
    "UPDATE Caso01 SET nomeRange = 'Low Facilities Percentage' WHERE porcentagemIMedia < 1.9;"
   ]
  },
  {
   "cell_type": "code",
   "execution_count": 64,
   "metadata": {},
   "outputs": [
    {
     "data": {
      "application/vnd.jupyter.widget-view+json": {
       "model_id": "a84db4c6-8e8d-46dd-b95e-85f2a075c9da",
       "version_major": 2,
       "version_minor": 0
      },
      "method": "display_data"
     },
     "metadata": {},
     "output_type": "display_data"
    }
   ],
   "source": [
    "SELECT * FROM CASO01;"
   ]
  },
  {
   "cell_type": "code",
   "execution_count": null,
   "metadata": {},
   "outputs": [],
   "source": []
  }
 ],
 "metadata": {
  "kernelspec": {
   "display_name": "SQL",
   "language": "SQL",
   "name": "sql"
  },
  "language_info": {
   "codemirror_mode": "sql",
   "file_extension": ".sql",
   "mimetype": "",
   "name": "SQL",
   "nbconverter_exporter": "",
   "version": ""
  }
 },
 "nbformat": 4,
 "nbformat_minor": 4
}
