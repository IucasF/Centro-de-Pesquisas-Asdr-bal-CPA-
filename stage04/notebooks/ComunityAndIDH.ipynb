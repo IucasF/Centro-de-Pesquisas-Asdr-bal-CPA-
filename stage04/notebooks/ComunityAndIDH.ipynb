{
 "cells": [
  {
   "cell_type": "code",
   "execution_count": 1,
   "metadata": {},
   "outputs": [],
   "source": [
    "%defaultDatasource jdbc:h2:mem:db"
   ]
  },
  {
   "cell_type": "code",
   "execution_count": 2,
   "metadata": {},
   "outputs": [],
   "source": [
    "--Criando as tabelas principais através do repositório\n",
    "DROP TABLE IF EXISTS IDH;\n",
    "DROP TABLE IF EXISTS Dietas;\n",
    "\n",
    "CREATE TABLE IDH(\n",
    "    nomePais VARCHAR(52),\n",
    "    IDH VARCHAR(15)\n",
    ") AS SELECT\n",
    "    pais, \n",
    "    paises_IDH\n",
    "FROM CSVREAD('../data/paises_idh.csv');\n",
    "\n",
    "CREATE TABLE Dietas(\n",
    "    nomePais VARCHAR(52) NOT NULL,\n",
    "    nomeGrupo VARCHAR(50) NOT NULL,\n",
    ") AS SELECT\n",
    "    name,\n",
    "    communityId\n",
    "FROM CSVREAD('../data/comunidade_dietas.csv');"
   ]
  },
  {
   "cell_type": "code",
   "execution_count": 3,
   "metadata": {},
   "outputs": [],
   "source": [
    "--Normalizando duas linhas da tabela que estava dando problema\n",
    "DELETE FROM IDH WHERE nomePais = 'Hong Kong' OR nomePais = 'Palestine';\n",
    "--SELECT * FROM IDH;"
   ]
  },
  {
   "cell_type": "code",
   "execution_count": 8,
   "metadata": {},
   "outputs": [
    {
     "data": {
      "application/vnd.jupyter.widget-view+json": {
       "model_id": "75713015-1a57-4138-b03a-717d939cbc1f",
       "version_major": 2,
       "version_minor": 0
      },
      "method": "display_data"
     },
     "metadata": {},
     "output_type": "display_data"
    }
   ],
   "source": [
    "SELECT * FROM Dietas;"
   ]
  },
  {
   "cell_type": "code",
   "execution_count": 11,
   "metadata": {},
   "outputs": [],
   "source": [
    "--Fazendo a Junção entre tabelas\n",
    "DROP TABLE IF EXISTS Juncao; \n",
    "CREATE TABLE Juncao(\n",
    "    nomePais VARCHAR(52) NOT NULL,\n",
    "    IDH FLOAT NOT NULL,\n",
    "    nomeGrupo VARCHAR(50) NOT NULL,\n",
    ");\n",
    "\n",
    "--Já inserindo e populando elas\n",
    "INSERT INTO Juncao (nomePais, IDH, nomeGrupo)\n",
    "SELECT D.nomePais, I.idh, D.nomeGrupo\n",
    "FROM Dietas D, IDH I WHERE D.nomePais = I.nomePais;"
   ]
  },
  {
   "cell_type": "code",
   "execution_count": 5,
   "metadata": {},
   "outputs": [
    {
     "data": {
      "application/vnd.jupyter.widget-view+json": {
       "model_id": "839ba5b3-2b2b-4422-a629-2ca32fcd9e9a",
       "version_major": 2,
       "version_minor": 0
      },
      "method": "display_data"
     },
     "metadata": {},
     "output_type": "display_data"
    }
   ],
   "source": [
    "SELECT * FROM Juncao;"
   ]
  },
  {
   "cell_type": "code",
   "execution_count": 12,
   "metadata": {},
   "outputs": [
    {
     "data": {
      "application/vnd.jupyter.widget-view+json": {
       "model_id": "2409b87d-0da6-47c7-8dff-3b4c8c2d7f0f",
       "version_major": 2,
       "version_minor": 0
      },
      "method": "display_data"
     },
     "metadata": {},
     "output_type": "display_data"
    }
   ],
   "source": [
    "--Queremos verificar se países das comunidades estabelecidas na análise prévia de Grafos possui alguma semelhança de IDH entre si.  \n",
    "SELECT nomeGrupo, ROUND(AVG(IDH), 4) as idh_medio\n",
    "FROM Juncao\n",
    "GROUP BY nomeGrupo;"
   ]
  },
  {
   "cell_type": "code",
   "execution_count": null,
   "metadata": {},
   "outputs": [],
   "source": []
  }
 ],
 "metadata": {
  "kernelspec": {
   "display_name": "SQL",
   "language": "SQL",
   "name": "sql"
  },
  "language_info": {
   "codemirror_mode": "sql",
   "file_extension": ".sql",
   "mimetype": "",
   "name": "SQL",
   "nbconverter_exporter": "",
   "version": ""
  }
 },
 "nbformat": 4,
 "nbformat_minor": 4
}
