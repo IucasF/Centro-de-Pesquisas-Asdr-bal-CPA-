{
 "cells": [
  {
   "cell_type": "code",
   "execution_count": 1,
   "metadata": {},
   "outputs": [],
   "source": [
    "%defaultDatasource jdbc:h2:mem:db"
   ]
  },
  {
   "cell_type": "code",
   "execution_count": 2,
   "metadata": {},
   "outputs": [],
   "source": [
    "--Criando as tabelas principais através do repositório\n",
    "DROP TABLE IF EXISTS Depressao;\n",
    "DROP TABLE IF EXISTS MentalFacilities;\n",
    "\n",
    "CREATE TABLE Depressao(\n",
    "    nomePais VARCHAR(52),\n",
    "    anoPesquisa varchar(16),\n",
    "    populacao bigint,\n",
    "    porcentagemHomens FLOAT,\n",
    "    porcentagemMulheres FLOAT,\n",
    ") AS SELECT\n",
    "    Entity,\n",
    "    Year, \n",
    "    Population,\n",
    "    Prevalence_Depressive_Disorders_Male,\n",
    "    Prevalence_Depressive_Disorders_Female\n",
    "FROM CSVREAD('../data/depression_mh.csv');\n",
    "\n",
    "CREATE TABLE MentalFacilities(\n",
    "    nomePais VARCHAR(52),\n",
    "    anoPesquisa VARCHAR(16),\n",
    "    hospitais FLOAT,\n",
    "    servicos_de_saude FLOAT,\n",
    "    servicos_de_saude_nao_gov FLOAT,\n",
    "    servicos_de_saude_day_threat FLOAT,\n",
    "    comunidade_residencial FLOAT\n",
    ") AS SELECT\n",
    "    Country,\n",
    "    Year, \n",
    "    Mental_hospitals,\n",
    "    Mental_health_units,\n",
    "    Mental_health_outpatient,\n",
    "    Mental_health_day_treatment,\n",
    "    Community_residential_facilities\n",
    "FROM CSVREAD('../data/mental_health_facilities_gho.csv');"
   ]
  },
  {
   "cell_type": "code",
   "execution_count": 3,
   "metadata": {},
   "outputs": [],
   "source": [
    "--Normalizando os dados da tabela de Depressão\n",
    "DELETE FROM Depressao D WHERE D.porcentagemHomens IS NULL;\n",
    "--SELECT * FROM Depressao;"
   ]
  },
  {
   "cell_type": "code",
   "execution_count": 4,
   "metadata": {},
   "outputs": [
    {
     "data": {
      "application/vnd.jupyter.widget-view+json": {
       "model_id": "b676a1c5-f47e-43e2-b9f4-0ac57e0abfad",
       "version_major": 2,
       "version_minor": 0
      },
      "method": "display_data"
     },
     "metadata": {},
     "output_type": "display_data"
    }
   ],
   "source": [
    "--Nrmalizando os dados da tabela de MentalFacilities\n",
    "UPDATE MentalFacilities SET hospitais = 0 WHERE hospitais IS NULL;\n",
    "UPDATE MentalFacilities SET servicos_de_saude = 0 WHERE servicos_de_saude IS NULL;\n",
    "UPDATE MentalFacilities SET servicos_de_saude_nao_gov = 0 WHERE servicos_de_saude_nao_gov IS NULL;\n",
    "UPDATE MentalFacilities SET servicos_de_saude_day_threat = 0 WHERE servicos_de_saude_day_threat IS NULL;\n",
    "UPDATE MentalFacilities SET comunidade_residencial = 0 WHERE comunidade_residencial IS NULL;\n",
    "\n",
    "SELECT * FROM MentalFacilities;\n",
    "\n",
    "DROP TABLE IF EXISTS MentalFacilities_v2;\n",
    "CREATE TABLE MentalFacilities_v2 (\n",
    "    nomePais VARCHAR(52),\n",
    "    anoPesquisa INT,\n",
    "    porcentagem FLOAT\n",
    ")"
   ]
  },
  {
   "cell_type": "code",
   "execution_count": 5,
   "metadata": {},
   "outputs": [],
   "source": [
    "--Como esta tabela de MentaFacilities tinha muitos valores diferentes mas que no fundo representavam todos o número de prédios existentes no país\n",
    "--(porcentagem em 100.000), decidi somar todos e colocar esta soma em um só valor com o nome de 'porcentagem' nesta nova tabela (MentaFacilities_v2)\n",
    "INSERT INTO MentalFacilities_v2 (nomePais, anoPesquisa, porcentagem)\n",
    "SELECT MF.nomePais, MF.anoPesquisa, (MF.hospitais + MF.servicos_de_saude + MF.servicos_de_saude_nao_gov + MF.servicos_de_saude_day_threat + MF.comunidade_residencial)\n",
    "FROM MentalFacilities MF WHERE CAST(SUBSTRING(MF.anoPesquisa, 1, 4) AS INT) = MF.anoPesquisa;"
   ]
  },
  {
   "cell_type": "code",
   "execution_count": 6,
   "metadata": {},
   "outputs": [
    {
     "data": {
      "application/vnd.jupyter.widget-view+json": {
       "model_id": "9d44221c-bdcc-43ad-8235-b6f01fcc0f27",
       "version_major": 2,
       "version_minor": 0
      },
      "method": "display_data"
     },
     "metadata": {},
     "output_type": "display_data"
    }
   ],
   "source": [
    "SELECT * FROM MentalFacilities_v2;"
   ]
  },
  {
   "cell_type": "code",
   "execution_count": 6,
   "metadata": {},
   "outputs": [],
   "source": [
    "--Fazendo a junção entre as tabelas\n",
    "DROP TABLE IF EXISTS Juncao; \n",
    "CREATE TABLE Juncao (\n",
    "    nomePais VARCHAR(53),\n",
    "    anoPesquisa int,\n",
    "    porcentagemHomens FLOAT,\n",
    "    porcentagemMulheres FLOAT,\n",
    "    porcentagemInstalacoes FLOAT\n",
    ");"
   ]
  },
  {
   "cell_type": "code",
   "execution_count": 7,
   "metadata": {},
   "outputs": [],
   "source": [
    "--Nesta query e na próxima faço uma pesquisa para ver qual a pesquisa mais recente do respectivo país, para que duas pesquisas de anos diferentes\n",
    "--de um mesmo país não interfiram no resultado final\n",
    "DROP VIEW IF EXISTS MAX_ANO;\n",
    "CREATE VIEW MAX_ANO AS\n",
    "SELECT nomePais, MAX(anoPesquisa) as ano_max FROM MentalFacilities_v2\n",
    "GROUP BY nomePais, anoPesquisa;\n",
    "\n",
    "--SELECT * FROM MAX_ANO;"
   ]
  },
  {
   "cell_type": "code",
   "execution_count": 8,
   "metadata": {},
   "outputs": [
    {
     "data": {
      "application/vnd.jupyter.widget-view+json": {
       "model_id": "bfb6c5dc-045c-40dc-880b-31b7910cd98c",
       "version_major": 2,
       "version_minor": 0
      },
      "method": "display_data"
     },
     "metadata": {},
     "output_type": "display_data"
    }
   ],
   "source": [
    "INSERT INTO Juncao (nomePais, anoPesquisa, porcentagemHomens, porcentagemMulheres, porcentagemInstalacoes)\n",
    "SELECT MF.nomePais, D.anoPesquisa, ROUND(D.porcentagemHomens , 4), ROUND(D.porcentagemMulheres, 4), ROUND(MF.porcentagem, 3)\n",
    "FROM MentalFacilities_v2 MF, Depressao D, MAX_ANO MA\n",
    "WHERE MF.nomePais = D.nomePais AND MF.nomePais = MA.nomePais AND MF.anoPesquisa = MA.ano_max AND D.anoPesquisa = MA.ano_max;\n",
    "SELECT * FROM Juncao;"
   ]
  },
  {
   "cell_type": "code",
   "execution_count": 9,
   "metadata": {},
   "outputs": [
    {
     "data": {
      "application/vnd.jupyter.widget-view+json": {
       "model_id": "2d334eb4-d7d1-48f1-afc3-61349a3e6bf7",
       "version_major": 2,
       "version_minor": 0
      },
      "method": "display_data"
     },
     "metadata": {},
     "output_type": "display_data"
    }
   ],
   "source": [
    "--Interessante constatação de que mulheres aparentemente relataram em maior número sofrerem de problemas mentais (quase 2x mais!)\n",
    "SELECT ROUND(SUM(porcentagemHomens)/124 , 4) as homens, ROUND(SUM(porcentagemMulheres)/124 ,4) as mulheres FROM Juncao;"
   ]
  },
  {
   "cell_type": "code",
   "execution_count": 56,
   "metadata": {},
   "outputs": [
    {
     "data": {
      "application/vnd.jupyter.widget-view+json": {
       "model_id": "aab7522a-b398-4dfc-bf48-6bb39f8970b9",
       "version_major": 2,
       "version_minor": 0
      },
      "method": "display_data"
     },
     "metadata": {},
     "output_type": "display_data"
    }
   ],
   "source": [
    "SELECT * FROM Juncao ORDER BY porcentagemInstalacoes DESC;"
   ]
  },
  {
   "cell_type": "code",
   "execution_count": 10,
   "metadata": {},
   "outputs": [],
   "source": [
    "--Aqui, assim como foi feito em ConectandoDatabasesv3, criei um Caso01 para analisar o número de Instalações presentes nos países de acordo\n",
    "--com a porcentagem de Homens e Mulheres com Depressão nos mesmos\n",
    "DROP TABLE IF EXISTS Caso01;\n",
    "CREATE TABLE Caso01(\n",
    "    nomeRange VARCHAR(52),\n",
    "    porcentagemDMedia DOUBLE,\n",
    "    porcentagemIMedia DOUBLE\n",
    ");\n",
    "\n",
    "INSERT INTO Caso01 (porcentagemDMedia, porcentagemIMedia)\n",
    "SELECT ROUND(AVG(J.porcentagemHomens + J.porcentagemMulheres), 4), ROUND(AVG(J.porcentagemInstalacoes), 4)\n",
    "FROM Juncao J WHERE J.porcentagemInstalacoes > 8;\n",
    "UPDATE Caso01 SET nomeRange = 'High Facilities Percentage' WHERE porcentagemIMedia > 8;\n",
    "\n",
    "INSERT INTO Caso01 (porcentagemDMedia, porcentagemIMedia)\n",
    "SELECT ROUND(AVG(J.porcentagemHomens + J.porcentagemMulheres), 4), ROUND(AVG(J.porcentagemInstalacoes), 4)\n",
    "FROM Juncao J WHERE J.porcentagemInstalacoes < 8 AND J.porcentagemInstalacoes > 1.9;\n",
    "UPDATE Caso01 SET nomeRange = 'Medium Facilities Percentage' WHERE porcentagemIMedia < 8 AND porcentagemIMedia > 1.9;\n",
    "\n",
    "INSERT INTO Caso01 (porcentagemDMedia, porcentagemIMedia)\n",
    "SELECT ROUND(AVG(J.porcentagemHomens + J.porcentagemMulheres), 4), ROUND(AVG(J.porcentagemInstalacoes), 4)\n",
    "FROM Juncao J WHERE J.porcentagemInstalacoes < 1.9;\n",
    "UPDATE Caso01 SET nomeRange = 'Low Facilities Percentage' WHERE porcentagemIMedia < 1.9;"
   ]
  },
  {
   "cell_type": "code",
   "execution_count": 11,
   "metadata": {},
   "outputs": [
    {
     "data": {
      "application/vnd.jupyter.widget-view+json": {
       "model_id": "20e5f74f-2666-4d26-a20c-4de81c298d4f",
       "version_major": 2,
       "version_minor": 0
      },
      "method": "display_data"
     },
     "metadata": {},
     "output_type": "display_data"
    }
   ],
   "source": [
    "--Para minha surpresa, não se mostrou haver uma correlação muito forte\n",
    "SELECT * FROM CASO01;"
   ]
  },
  {
   "cell_type": "code",
   "execution_count": 12,
   "metadata": {},
   "outputs": [],
   "source": [
    "--Criada outra tabela com dados de IDH, através da tabela no repositório\n",
    "DROP TABLE IF EXISTS IDH;\n",
    "\n",
    "CREATE TABLE IDH(\n",
    "    nomePais VARCHAR(52),\n",
    "    IDH VARCHAR(15)\n",
    ") AS SELECT\n",
    "    pais, \n",
    "    paises_IDH\n",
    "FROM CSVREAD('../data/paises_idh.csv');\n",
    "\n",
    "DELETE FROM IDH WHERE nomePais = 'Hong Kong' OR nomePais = 'Palestine';"
   ]
  },
  {
   "cell_type": "code",
   "execution_count": 13,
   "metadata": {},
   "outputs": [],
   "source": [
    "--Segunda tabela de Junção de dados: \n",
    "--relacionará todos os 3 valores: porcentagem de instalações, porcentagem de depressão e IDH dos respectivos países\n",
    "DROP TABLE IF EXISTS Juncao2; \n",
    "CREATE TABLE Juncao2 (\n",
    "    nomePais VARCHAR(53),\n",
    "    anoPesquisa int,\n",
    "    porcentagemHomens FLOAT,\n",
    "    porcentagemMulheres FLOAT,\n",
    "    porcentagemInstalacoes FLOAT,\n",
    "    IDH FLOAT\n",
    ");"
   ]
  },
  {
   "cell_type": "code",
   "execution_count": 14,
   "metadata": {},
   "outputs": [],
   "source": [
    "--Populando esta tabela Junção 2\n",
    "INSERT INTO Juncao2 (nomePais, anoPesquisa, porcentagemHomens, porcentagemMulheres, porcentagemInstalacoes, idh)\n",
    "SELECT MF.nomePais, D.anoPesquisa, ROUND(D.porcentagemHomens , 4), ROUND(D.porcentagemMulheres, 4), ROUND(MF.porcentagem, 3), I.idh\n",
    "FROM MentalFacilities_v2 MF, Depressao D, MAX_ANO MA, IDH I\n",
    "WHERE MF.nomePais = D.nomePais AND MF.nomePais = MA.nomePais AND MF.anoPesquisa = MA.ano_max AND D.anoPesquisa = MA.ano_max AND I.nomePais = MF.nomePais\n",
    "--SELECT * FROM Juncao2;"
   ]
  },
  {
   "cell_type": "code",
   "execution_count": 15,
   "metadata": {},
   "outputs": [
    {
     "data": {
      "application/vnd.jupyter.widget-view+json": {
       "model_id": "8f7dabd2-6096-490e-91e2-f1924cbbff63",
       "version_major": 2,
       "version_minor": 0
      },
      "method": "display_data"
     },
     "metadata": {},
     "output_type": "display_data"
    }
   ],
   "source": [
    "SELECT * FROM Juncao2;"
   ]
  },
  {
   "cell_type": "code",
   "execution_count": 16,
   "metadata": {},
   "outputs": [],
   "source": [
    "--Análise destes 3 aspectos com relação à porcentagem de Instalações de cada país\n",
    "DROP TABLE IF EXISTS Caso02;\n",
    "CREATE TABLE Caso02(\n",
    "    nomeRange VARCHAR(52),\n",
    "    porcentagemDMedia DOUBLE,\n",
    "    porcentagemIMedia DOUBLE,\n",
    "    IDH FLOAT\n",
    ");\n",
    "\n",
    "INSERT INTO Caso02 (porcentagemDMedia, porcentagemIMedia, IDH)\n",
    "SELECT ROUND(AVG(J.porcentagemHomens + J.porcentagemMulheres), 4), ROUND(AVG(J.porcentagemInstalacoes), 4), ROUND(AVG(J.idh), 4)\n",
    "FROM Juncao2 J WHERE J.porcentagemInstalacoes > 8;\n",
    "UPDATE Caso02 SET nomeRange = 'High Facilities Percentage' WHERE porcentagemIMedia > 8;\n",
    "\n",
    "INSERT INTO Caso02 (porcentagemDMedia, porcentagemIMedia, IDH)\n",
    "SELECT ROUND(AVG(J.porcentagemHomens + J.porcentagemMulheres), 4), ROUND(AVG(J.porcentagemInstalacoes), 4), ROUND(AVG(J.idh), 4)\n",
    "FROM Juncao2 J WHERE J.porcentagemInstalacoes < 8 AND J.porcentagemInstalacoes > 1.9;\n",
    "UPDATE Caso02 SET nomeRange = 'Medium Facilities Percentage' WHERE porcentagemIMedia < 8 AND porcentagemIMedia > 1.9;\n",
    "\n",
    "INSERT INTO Caso02 (porcentagemDMedia, porcentagemIMedia, IDH)\n",
    "SELECT ROUND(AVG(J.porcentagemHomens + J.porcentagemMulheres), 4), ROUND(AVG(J.porcentagemInstalacoes), 4), ROUND(AVG(J.idh), 4)\n",
    "FROM Juncao2 J WHERE J.porcentagemInstalacoes < 1.9;\n",
    "UPDATE Caso02 SET nomeRange = 'Low Facilities Percentage' WHERE porcentagemIMedia < 1.9;"
   ]
  },
  {
   "cell_type": "code",
   "execution_count": 17,
   "metadata": {},
   "outputs": [
    {
     "data": {
      "application/vnd.jupyter.widget-view+json": {
       "model_id": "046f32d4-6416-465d-b3b8-cb4045faa74e",
       "version_major": 2,
       "version_minor": 0
      },
      "method": "display_data"
     },
     "metadata": {},
     "output_type": "display_data"
    }
   ],
   "source": [
    "SELECT * FROM Caso02;"
   ]
  },
  {
   "cell_type": "code",
   "execution_count": 29,
   "metadata": {},
   "outputs": [],
   "source": [
    "--Terceira tabela de Junção:\n",
    "--Terá os valores de porcentagem de Depressão e Nome do Grupo(Comunidade) feito na análise de Grafo\n",
    "DROP TABLE IF EXISTS Juncao3; \n",
    "CREATE TABLE Juncao3 (\n",
    "    nomePais VARCHAR(53),\n",
    "    anoPesquisa int,\n",
    "    porcentagemHomens FLOAT,\n",
    "    porcentagemMulheres FLOAT,\n",
    "    nomeGrupo int\n",
    ");"
   ]
  },
  {
   "cell_type": "code",
   "execution_count": 30,
   "metadata": {},
   "outputs": [],
   "source": [
    "--Pegando a tabela com os Grupos/Comunidades do repositório\n",
    "DROP TABLE IF EXISTS Dietas;\n",
    "CREATE TABLE Dietas(\n",
    "    nomePais VARCHAR(52) NOT NULL,\n",
    "    nomeGrupo VARCHAR(50) NOT NULL,\n",
    ") AS SELECT\n",
    "    name,\n",
    "    communityId\n",
    "FROM CSVREAD('../data/comunidade_dietas.csv');"
   ]
  },
  {
   "cell_type": "code",
   "execution_count": 31,
   "metadata": {},
   "outputs": [],
   "source": [
    "--Populando a tabela\n",
    "INSERT INTO Juncao3 (nomePais, anoPesquisa, porcentagemHomens, porcentagemMulheres, nomeGrupo)\n",
    "SELECT MF.nomePais, D.anoPesquisa, ROUND(D.porcentagemHomens , 4), ROUND(D.porcentagemMulheres, 4), Di.nomeGrupo\n",
    "FROM MentalFacilities_v2 MF, Depressao D, MAX_ANO MA, Dietas Di\n",
    "WHERE MF.nomePais = D.nomePais AND MF.nomePais = MA.nomePais AND MF.anoPesquisa = MA.ano_max AND D.anoPesquisa = MA.ano_max AND Di.nomePais = MF.nomePais\n",
    "--SELECT * FROM Juncao2;"
   ]
  },
  {
   "cell_type": "code",
   "execution_count": 32,
   "metadata": {},
   "outputs": [
    {
     "data": {
      "application/vnd.jupyter.widget-view+json": {
       "model_id": "cd22f46b-61e1-444a-b9b7-63c1b8cedc88",
       "version_major": 2,
       "version_minor": 0
      },
      "method": "display_data"
     },
     "metadata": {},
     "output_type": "display_data"
    }
   ],
   "source": [
    "SELECT * FROM Juncao3;"
   ]
  },
  {
   "cell_type": "code",
   "execution_count": 33,
   "metadata": {},
   "outputs": [],
   "source": [
    "--Tabela simples com apenas dois valores: grupo da comunidade e a porcentagem de Homens e Mulheres com Depressão\n",
    "DROP TABLE IF EXISTS Caso03;\n",
    "CREATE TABLE Caso03(\n",
    "    nomeGrupo VARCHAR(52),\n",
    "    porcentagemDMedia DOUBLE,\n",
    ");"
   ]
  },
  {
   "cell_type": "code",
   "execution_count": 34,
   "metadata": {},
   "outputs": [
    {
     "data": {
      "application/vnd.jupyter.widget-view+json": {
       "model_id": "66b5eb7c-7a40-4047-a0ae-582f857d9397",
       "version_major": 2,
       "version_minor": 0
      },
      "method": "display_data"
     },
     "metadata": {},
     "output_type": "display_data"
    }
   ],
   "source": [
    "--Análise da média dos casos de Depressão entre os países de cada Grupo/Comunidade\n",
    "SELECT nomeGrupo, ROUND(AVG(porcentagemHomens), 4) as depressao_homens, ROUND(AVG(porcentagemMulheres), 4) as depressao_mulheres\n",
    "FROM Juncao3\n",
    "GROUP BY nomeGrupo;"
   ]
  },
  {
   "cell_type": "code",
   "execution_count": 39,
   "metadata": {},
   "outputs": [],
   "source": [
    "DROP TABLE IF EXISTS Caso02;\n",
    "CREATE TABLE Caso02(\n",
    "    nomeRange VARCHAR(52),\n",
    "    porcentagemDMedia DOUBLE,\n",
    "    porcentagemIMedia DOUBLE,\n",
    ");"
   ]
  },
  {
   "cell_type": "code",
   "execution_count": 38,
   "metadata": {},
   "outputs": [
    {
     "ename": "org.h2.jdbc.JdbcSQLException",
     "evalue": " Column \"IDH\" not found; SQL statement",
     "output_type": "error",
     "text": "org.h2.jdbc.JdbcSQLException: Column \"IDH\" not found; SQL statement:\nINSERT INTO Caso02 (porcentagemDMedia, porcentagemIMedia, IDH)\nSELECT ROUND(AVG(J.porcentagemHomens + J.porcentagemMulheres), 4), ROUND(AVG(J.porcentagemInstalacoes), 4), ROUND(AVG(J.idh), 4)\nFROM Juncao2 J WHERE J.porcentagemInstalacoes > 8 [42122-197]",
     "traceback": [
      "\u001b[1;31morg.h2.jdbc.JdbcSQLException: Column \"IDH\" not found; SQL statement:\u001b[0;0m",
      "\u001b[1;31mINSERT INTO Caso02 (porcentagemDMedia, porcentagemIMedia, IDH)\u001b[0;0m",
      "\u001b[1;31mSELECT ROUND(AVG(J.porcentagemHomens + J.porcentagemMulheres), 4), ROUND(AVG(J.porcentagemInstalacoes), 4), ROUND(AVG(J.idh), 4)\u001b[0;0m",
      "\u001b[1;31mFROM Juncao2 J WHERE J.porcentagemInstalacoes > 8 [42122-197]\u001b[0;0m"
     ]
    }
   ],
   "source": [
    "INSERT INTO Caso02 (porcentagemDMedia, porcentagemIMedia, IDH)\n",
    "SELECT ROUND(AVG(J.porcentagemHomens + J.porcentagemMulheres), 4), ROUND(AVG(J.porcentagemInstalacoes), 4), ROUND(AVG(J.idh), 4)\n",
    "FROM Juncao2 J WHERE J.porcentagemInstalacoes > 8;\n",
    "UPDATE Caso02 SET nomeRange = 'High Facilities Percentage' WHERE porcentagemIMedia > 8;\n",
    "\n",
    "INSERT INTO Caso02 (porcentagemDMedia, porcentagemIMedia, IDH)\n",
    "SELECT ROUND(AVG(J.porcentagemHomens + J.porcentagemMulheres), 4), ROUND(AVG(J.porcentagemInstalacoes), 4), ROUND(AVG(J.idh), 4)\n",
    "FROM Juncao2 J WHERE J.porcentagemInstalacoes < 8 AND J.porcentagemInstalacoes > 1.9;\n",
    "UPDATE Caso02 SET nomeRange = 'Medium Facilities Percentage' WHERE porcentagemIMedia < 8 AND porcentagemIMedia > 1.9;\n",
    "\n",
    "INSERT INTO Caso02 (porcentagemDMedia, porcentagemIMedia, IDH)\n",
    "SELECT ROUND(AVG(J.porcentagemHomens + J.porcentagemMulheres), 4), ROUND(AVG(J.porcentagemInstalacoes), 4), ROUND(AVG(J.idh), 4)\n",
    "FROM Juncao2 J WHERE J.porcentagemInstalacoes < 1.9;\n",
    "UPDATE Caso02 SET nomeRange = 'Low Facilities Percentage' WHERE porcentagemIMedia < 1.9;"
   ]
  },
  {
   "cell_type": "code",
   "execution_count": null,
   "metadata": {},
   "outputs": [],
   "source": []
  }
 ],
 "metadata": {
  "kernelspec": {
   "display_name": "SQL",
   "language": "SQL",
   "name": "sql"
  },
  "language_info": {
   "codemirror_mode": "sql",
   "file_extension": ".sql",
   "mimetype": "",
   "name": "SQL",
   "nbconverter_exporter": "",
   "version": ""
  }
 },
 "nbformat": 4,
 "nbformat_minor": 4
}
