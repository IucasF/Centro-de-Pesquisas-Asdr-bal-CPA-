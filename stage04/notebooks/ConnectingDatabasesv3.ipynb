{
 "cells": [
  {
   "cell_type": "code",
   "execution_count": 2,
   "metadata": {},
   "outputs": [],
   "source": [
    "%defaultDatasource jdbc:h2:mem:db"
   ]
  },
  {
   "cell_type": "code",
   "execution_count": 3,
   "metadata": {},
   "outputs": [],
   "source": [
    "--Criando as tabelas principais através do repositório\n",
    "DROP TABLE IF EXISTS Esquizofrenia;\n",
    "DROP TABLE IF EXISTS TabelaDatabase2;\n",
    "\n",
    "CREATE TABLE Esquizofrenia(\n",
    "    nomePais VARCHAR(52),\n",
    "    anoPesquisa int,\n",
    "    porcentagemHomens FLOAT,\n",
    "    porcentagemMulheres FLOAT,\n",
    "    PRIMARY KEY(nomePais, anoPesquisa)\n",
    ") AS SELECT\n",
    "    Entity,\n",
    "    Year, \n",
    "    MaleSchizophreniaPerCent,\n",
    "    FemaleSchizophreniaPerCent\n",
    "FROM CSVREAD('../../data/databasse5_prevalence-of-schizophrenia-in-males-vs-femalesv3.csv');\n",
    "\n",
    "CREATE TABLE TabelaDatabase2(\n",
    "    nomePais VARCHAR(52) NOT NULL,\n",
    "    categoria VARCHAR(50) NOT NULL,\n",
    "    indicador VARCHAR(85) NOT NULL,\n",
    "    anoPesquisa VARCHAR(9),\n",
    "    porcentagem VARCHAR(8),\n",
    "    PRIMARY KEY(nomePais, indicador, anoPesquisa)\n",
    ") AS SELECT\n",
    "    Country,\n",
    "    Category,\n",
    "    Indicator,\n",
    "    Year, \n",
    "    Value\n",
    "FROM CSVREAD('../../data/database2_overweight_underweight.csv');\n",
    "--indicadores: \n",
    "--Overweight (WHZ >+2 SD) in children 0-59 months (%), Underweight (WAZ <-2 SD) in children 0-59 months (%), \n",
    "--Low birth weight (<2500 g) (%), Overweight (BMI-for-age >+1 SD) in school-age children and adolescents 5-19 years (%),"
   ]
  },
  {
   "cell_type": "code",
   "execution_count": 28,
   "metadata": {},
   "outputs": [
    {
     "data": {
      "application/vnd.jupyter.widget-view+json": {
       "model_id": "9bf55aca-d3c3-4a49-9f65-8e7b949f07c7",
       "version_major": 2,
       "version_minor": 0
      },
      "method": "display_data"
     },
     "metadata": {},
     "output_type": "display_data"
    }
   ],
   "source": [
    "SELECT nomePais, indicador, anoPesquisa, porcentagem FROM TabelaDatabase2;\n",
    "SELECT * FROM Esquizofrenia;"
   ]
  },
  {
   "cell_type": "code",
   "execution_count": 4,
   "metadata": {},
   "outputs": [
    {
     "data": {
      "application/vnd.jupyter.widget-view+json": {
       "model_id": "500c51e6-e35a-4af0-a40f-17c8aa705a6b",
       "version_major": 2,
       "version_minor": 0
      },
      "method": "display_data"
     },
     "metadata": {},
     "output_type": "display_data"
    }
   ],
   "source": [
    "--Normalizando os dados\n",
    "DELETE FROM TabelaDatabase2 TB2 WHERE TB2.porcentagem = 'No data' OR TB2.porcentagem IS NULL;\n",
    "DELETE FROM Esquizofrenia E WHERE E.porcentagemHomens IS NULL OR E.porcentagemMulheres IS NULL;"
   ]
  },
  {
   "cell_type": "code",
   "execution_count": 14,
   "metadata": {},
   "outputs": [
    {
     "data": {
      "application/vnd.jupyter.widget-view+json": {
       "model_id": "809855d2-3815-4d71-8432-612ee0d3439e",
       "version_major": 2,
       "version_minor": 0
      },
      "method": "display_data"
     },
     "metadata": {},
     "output_type": "display_data"
    }
   ],
   "source": [
    "--Primeiros Selects (por categoria específica)\n",
    "SELECT nomePais, anoPesquisa, CAST(porcentagem AS FLOAT) CriancasComSobrepesoPorcentagem FROM TabelaDatabase2 WHERE indicador = 'Overweight (WHZ >+2 SD) in children 0-59 months (%)' ORDER BY porcentagem DESC;\n"
   ]
  },
  {
   "cell_type": "code",
   "execution_count": 15,
   "metadata": {},
   "outputs": [
    {
     "data": {
      "application/vnd.jupyter.widget-view+json": {
       "model_id": "b95df626-3d56-4cc5-8059-eec489a52d96",
       "version_major": 2,
       "version_minor": 0
      },
      "method": "display_data"
     },
     "metadata": {},
     "output_type": "display_data"
    }
   ],
   "source": [
    "--Primeiros Selects (por categoria específica)\n",
    "SELECT nomePais, anoPesquisa, CAST(porcentagem AS FLOAT) porcentagem FROM TabelaDatabase2 WHERE indicador = 'Low birth weight (<2500 g) (%)' AND anoPesquisa = 2000 ORDER BY porcentagem DESC;"
   ]
  },
  {
   "cell_type": "code",
   "execution_count": 6,
   "metadata": {},
   "outputs": [],
   "source": [
    "--Tabela Juncao para armazenar dados de ambas as tabelas em uma só\n",
    "DROP TABLE IF EXISTS Juncao; \n",
    "CREATE TABLE Juncao(\n",
    "    nomePais VARCHAR(52) NOT NULL,\n",
    "    anoPesquisa int,\n",
    "    categoria VARCHAR(50) NOT NULL,\n",
    "    indicador VARCHAR(85) NOT NULL,\n",
    "    porcentagem VARCHAR(8),\n",
    "    porcentagemHomensEsq FLOAT,\n",
    "    porcentagemMulheresEsq FLOAT\n",
    ");"
   ]
  },
  {
   "cell_type": "code",
   "execution_count": 7,
   "metadata": {},
   "outputs": [],
   "source": [
    "--Inserindo nela os valores de cada tabela\n",
    "INSERT INTO Juncao (nomePais, anoPesquisa, categoria, indicador, porcentagem, porcentagemHomensEsq, porcentagemMulheresEsq)\n",
    "SELECT TB2.nomePais, E.anoPesquisa, TB2.categoria, TB2.indicador, TB2.porcentagem, E.porcentagemHomens, E.porcentagemMulheres\n",
    "FROM TabelaDatabase2 TB2, Esquizofrenia E WHERE TB2.nomePais = E.nomePais AND CAST(SUBSTRING(TB2.anoPesquisa, 1, 4) AS INT) = E.anoPesquisa;"
   ]
  },
  {
   "cell_type": "code",
   "execution_count": 18,
   "metadata": {},
   "outputs": [
    {
     "data": {
      "application/vnd.jupyter.widget-view+json": {
       "model_id": "9d73fd00-9d59-49d4-95dd-69c46868f36d",
       "version_major": 2,
       "version_minor": 0
      },
      "method": "display_data"
     },
     "metadata": {},
     "output_type": "display_data"
    }
   ],
   "source": [
    "--Nesta View deixaremos os cálculos com um certo arredondamento e colocaremos o indicador para este específico 'Overweight', assim todas as análises\n",
    "--estarão, por enquanto, levando em conta somente este indicador.\n",
    "DROP VIEW IF EXISTS Teste01;\n",
    "CREATE VIEW TESTE01 AS\n",
    "SELECT nomePais, anoPesquisa, CAST(porcentagem AS FLOAT) overweightPercentage, ROUND(porcentagemHomensEsq, 3) AS HomensEsqPercent, ROUND(porcentagemMulheresEsq, 3) AS MulheresEsqPercent FROM Juncao\n",
    "WHERE indicador = 'Overweight (WHZ >+2 SD) in children 0-59 months (%)' AND anoPesquisa > 2010 ORDER BY overweightPercentage DESC;\n",
    "SELECT * FROM TESTE01;"
   ]
  },
  {
   "cell_type": "code",
   "execution_count": 36,
   "metadata": {},
   "outputs": [],
   "source": [
    "--Primeira análise\n",
    "DROP TABLE IF EXISTS Caso01;\n",
    "CREATE TABLE Caso01(\n",
    "    nomeRange VARCHAR(25),\n",
    "    porcentagemOWMedia DOUBLE,\n",
    "    porcentagemEsqHomemMedia DOUBLE,\n",
    "    porcentagemEsqMulherMedia DOUBLE\n",
    ");"
   ]
  },
  {
   "cell_type": "code",
   "execution_count": 37,
   "metadata": {},
   "outputs": [],
   "source": [
    "--Nesta primeira análise da relação entre tabelas, após explorar as tabelas individualmente, mostra que já podemos ver uma pequena relação entre\n",
    "--a porcentagem de crianças com sobrepeso e a quantidade de casos de esquizofrenia em homens/mulheres:\n",
    "--Assim, os divido em 3 diferentes categorias: High Child O., que é o grupo contendo uma porcentagem de O.W. maior do que 10 (países acima deste número estavam na parte de cima da tabela),\n",
    "--Medium Child O., correspondente a 10 > porcentagem de O.W. > 5, que corresponde aos países com taxas médias de sobrepeso em crianças,\n",
    "--Low Child O., corresponden\n",
    "INSERT INTO Caso01 (porcentagemOWMedia, porcentagemEsqHomemMedia, porcentagemEsqMulherMedia)\n",
    "SELECT ROUND(AVG(T01.overweightPercentage), 4), ROUND(AVG(T01.HomensEsqPercent), 4), ROUND(AVG(T01.MulheresEsqPercent), 4) FROM Teste01 T01 \n",
    "WHERE T01.overweightPercentage > 10;\n",
    "UPDATE Caso01 SET nomeRange = 'High Child Overweight' WHERE porcentagemOWMedia > 10;\n",
    "\n",
    "INSERT INTO Caso01 (porcentagemOWMedia, porcentagemEsqHomemMedia, porcentagemEsqMulherMedia)\n",
    "SELECT ROUND(AVG(T01.overweightPercentage), 4), ROUND(AVG(T01.HomensEsqPercent), 4), ROUND(AVG(T01.MulheresEsqPercent), 4) FROM Teste01 T01 \n",
    "WHERE T01.overweightPercentage > 5 AND T01.overweightPercentage < 10;\n",
    "UPDATE Caso01 SET nomeRange = 'Medium Child Overweight' WHERE porcentagemOWMedia > 5 AND porcentagemOWMedia < 10;\n",
    "\n",
    "INSERT INTO Caso01 (porcentagemOWMedia, porcentagemEsqHomemMedia, porcentagemEsqMulherMedia)\n",
    "SELECT ROUND(AVG(T01.overweightPercentage), 4), ROUND(AVG(T01.HomensEsqPercent), 4), ROUND(AVG(T01.MulheresEsqPercent), 4) FROM Teste01 T01 \n",
    "WHERE T01.overweightPercentage < 5;\n",
    "UPDATE Caso01 SET nomeRange = 'Low Child Overweight' WHERE porcentagemOWMedia < 5;"
   ]
  },
  {
   "cell_type": "code",
   "execution_count": 39,
   "metadata": {},
   "outputs": [
    {
     "data": {
      "application/vnd.jupyter.widget-view+json": {
       "model_id": "23f7c277-76e7-4064-b6fa-6ccdd3e9b842",
       "version_major": 2,
       "version_minor": 0
      },
      "method": "display_data"
     },
     "metadata": {},
     "output_type": "display_data"
    }
   ],
   "source": [
    "SELECT * FROM Caso01;"
   ]
  },
  {
   "cell_type": "code",
   "execution_count": null,
   "metadata": {},
   "outputs": [],
   "source": []
  }
 ],
 "metadata": {
  "kernelspec": {
   "display_name": "SQL",
   "language": "SQL",
   "name": "sql"
  },
  "language_info": {
   "codemirror_mode": "sql",
   "file_extension": ".sql",
   "mimetype": "",
   "name": "SQL",
   "nbconverter_exporter": "",
   "version": ""
  }
 },
 "nbformat": 4,
 "nbformat_minor": 4
}
