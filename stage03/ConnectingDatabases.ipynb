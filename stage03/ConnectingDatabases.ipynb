{
 "cells": [
  {
   "cell_type": "code",
   "execution_count": 2,
   "metadata": {},
   "outputs": [],
   "source": [
    "%defaultDatasource jdbc:h2:mem:db"
   ]
  },
  {
   "cell_type": "code",
   "execution_count": 15,
   "metadata": {},
   "outputs": [
    {
     "ename": "org.h2.jdbc.JdbcSQLException",
     "evalue": " IO Exception",
     "output_type": "error",
     "text": "org.h2.jdbc.JdbcSQLException: IO Exception: \"IOException reading ../data/databasse5_prevalence-of-schizophrenia-in-males-vs-femalesv2.csv\"; SQL statement:\nCREATE TABLE Esquizofrenia(\nnomePais VARCHAR(50) NOT NULL,\n) AS SELECT\nEntity,\nFROM CSVREAD('../data/databasse5_prevalence-of-schizophrenia-in-males-vs-femalesv2.csv') [90028-197]",
     "traceback": [
      "\u001b[1;31morg.h2.jdbc.JdbcSQLException: IO Exception: \"IOException reading ../data/databasse5_prevalence-of-schizophrenia-in-males-vs-femalesv2.csv\"; SQL statement:\u001b[0;0m",
      "\u001b[1;31mCREATE TABLE Esquizofrenia(\u001b[0;0m",
      "\u001b[1;31mnomePais VARCHAR(50) NOT NULL,\u001b[0;0m",
      "\u001b[1;31m) AS SELECT\u001b[0;0m",
      "\u001b[1;31mEntity,\u001b[0;0m",
      "\u001b[1;31mFROM CSVREAD('../data/databasse5_prevalence-of-schizophrenia-in-males-vs-femalesv2.csv') [90028-197]\u001b[0;0m"
     ]
    }
   ],
   "source": [
    "DROP TABLE IF EXISTS Esquizofrenia;\n",
    "DROP TABLE IF EXISTS SubnutricaoCriancas;\n",
    "\n",
    "CREATE TABLE Esquizofrenia(\n",
    "    nomePais VARCHAR(50) NOT NULL,\n",
    "    anoPesquisa int,\n",
    "    porcentagemHomens FLOAT,\n",
    "    porcentagemMulheres FLOAT,\n",
    ") AS SELECT\n",
    "    Entity,\n",
    "    Year, \n",
    "    MaleSchizophreniaPerCent,\n",
    "    FemaleSchizophreniaPerCent\n",
    "FROM CSVREAD('../data/databasse5_prevalence-of-schizophrenia-in-males-vs-femalesv2.csv');\n",
    "\n",
    "CREATE TABLE SubnutricaoCriancas(\n",
    "    nomePais VARCHAR(52) NOT NULL,\n",
    "    anoPesquisa VARCHAR(9),\n",
    "    porcentagem VARCHAR(8),\n",
    ") AS SELECT\n",
    "    Country,\n",
    "    Year, \n",
    "    Value\n",
    "FROM CSVREAD('../data/database2_overweight_underweight.csv');"
   ]
  },
  {
   "cell_type": "code",
   "execution_count": 15,
   "metadata": {},
   "outputs": [
    {
     "data": {
      "application/vnd.jupyter.widget-view+json": {
       "model_id": "ccb2c607-2574-4b56-8af6-af5125199cc1",
       "version_major": 2,
       "version_minor": 0
      },
      "method": "display_data"
     },
     "metadata": {},
     "output_type": "display_data"
    }
   ],
   "source": [
    "SELECT * FROM SubnutricaoCriancas;"
   ]
  },
  {
   "cell_type": "code",
   "execution_count": 4,
   "metadata": {},
   "outputs": [
    {
     "data": {
      "application/vnd.jupyter.widget-view+json": {
       "model_id": "70d3f90b-1438-4339-9d46-6bd984427cc4",
       "version_major": 2,
       "version_minor": 0
      },
      "method": "display_data"
     },
     "metadata": {},
     "output_type": "display_data"
    }
   ],
   "source": [
    "DELETE FROM SubnutricaoCriancas SC WHERE SC.porcentagem = 'No data';\n",
    "SELECT * FROM SubnutricaoCriancas;"
   ]
  },
  {
   "cell_type": "code",
   "execution_count": null,
   "metadata": {},
   "outputs": [],
   "source": []
  }
 ],
 "metadata": {
  "kernelspec": {
   "display_name": "SQL",
   "language": "SQL",
   "name": "sql"
  },
  "language_info": {
   "codemirror_mode": "sql",
   "file_extension": ".sql",
   "mimetype": "",
   "name": "SQL",
   "nbconverter_exporter": "",
   "version": ""
  }
 },
 "nbformat": 4,
 "nbformat_minor": 4
}
